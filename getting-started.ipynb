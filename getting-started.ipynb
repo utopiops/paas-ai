{
 "cells": [
  {
   "cell_type": "markdown",
   "metadata": {},
   "source": [
    "# PaaS AI - Getting Started Guide\n",
    "\n",
    "This notebook walks you through setting up and using PaaS AI from scratch. We'll cover:\n",
    "\n",
    "1. **Environment Setup** - Installing dependencies and setting up the environment\n",
    "2. **Custom Profile Creation** - Creating and activating a custom configuration profile\n",
    "3. **Documentation Server** - Running the example PaaS documentation with npm\n",
    "4. **Interactive Chat** - Starting the AI chat interface\n",
    "\n",
    "## Prerequisites\n",
    "\n",
    "- Python 3.11 or 3.12\n",
    "- Poetry (for dependency management)\n",
    "- Node.js 18+ (for documentation server)\n",
    "- OpenAI API key (for AI functionality)\n",
    "\n",
    "Let's get started! 🚀\n"
   ]
  },
  {
   "cell_type": "markdown",
   "metadata": {},
   "source": [
    "## Step 1: Environment Setup\n",
    "\n",
    "First, let's check our current directory and install the project dependencies using Poetry.\n"
   ]
  },
  {
   "cell_type": "code",
   "execution_count": null,
   "metadata": {},
   "outputs": [],
   "source": [
    "import os\n",
    "import subprocess\n",
    "from pathlib import Path\n",
    "\n",
    "# Check current directory\n",
    "current_dir = Path.cwd()\n",
    "print(f\"Current directory: {current_dir}\")\n",
    "\n",
    "# Verify we're in the paas-ai project root\n",
    "if not (current_dir / \"pyproject.toml\").exists():\n",
    "    print(\"❌ Not in paas-ai project root. Please navigate to the project directory.\")\n",
    "else:\n",
    "    print(\"✅ Found pyproject.toml - we're in the right place!\")\n"
   ]
  },
  {
   "cell_type": "code",
   "execution_count": null,
   "metadata": {},
   "outputs": [],
   "source": [
    "# Install project dependencies using Make\n",
    "print(\"📦 Installing all dependencies...\")\n",
    "result = subprocess.run([\"make\", \"install-all\"], capture_output=False, text=True)\n",
    "\n",
    "if result.returncode == 0:\n",
    "    print(\"✅ All dependencies installed successfully!\")\n",
    "else:\n",
    "    print(f\"❌ Installation failed: {result.stderr}\")\n",
    "    print(\"Please run 'make install-all' manually\")\n"
   ]
  },
  {
   "cell_type": "markdown",
   "metadata": {},
   "source": [
    "## Step 2: Environment Variables Setup\n",
    "\n",
    "Let's set up the required environment variables. You'll need an OpenAI API key for the AI functionality.\n"
   ]
  },
  {
   "cell_type": "code",
   "execution_count": null,
   "metadata": {},
   "outputs": [],
   "source": [
    "# Check if .env file exists, if not create from example\n",
    "env_file = Path(\".env\")\n",
    "env_example = Path(\"env.example\")\n",
    "\n",
    "if not env_file.exists() and env_example.exists():\n",
    "    # Copy env.example to .env\n",
    "    with open(env_example, 'r') as src, open(env_file, 'w') as dst:\n",
    "        dst.write(src.read())\n",
    "    print(\"✅ Created .env file from env.example\")\n",
    "elif env_file.exists():\n",
    "    print(\"✅ .env file already exists\")\n",
    "else:\n",
    "    print(\"❌ No env.example found. Creating basic .env file...\")\n",
    "    with open(env_file, 'w') as f:\n",
    "        f.write(\"OPENAI_API_KEY=your_openai_api_key_here\\n\")\n",
    "    print(\"✅ Created basic .env file\")\n",
    "\n",
    "print(\"\\n⚠️  Please edit the .env file and add your OpenAI API key:\")\n",
    "print(\"   OPENAI_API_KEY=your_actual_api_key_here\")\n"
   ]
  },
  {
   "cell_type": "markdown",
   "metadata": {},
   "source": [
    "## Step 3: Create and Activate Custom Profile\n",
    "\n",
    "Now let's create a custom configuration profile. This allows us to customize the AI behavior, embedding models, and other settings.\n"
   ]
  },
  {
   "cell_type": "code",
   "execution_count": null,
   "metadata": {},
   "outputs": [],
   "source": [
    "# Check current config.yaml\n",
    "config_file = Path.home() / \".paas-ai\" / \"config.yaml\"\n",
    "\n",
    "if config_file.exists():\n",
    "    print(\"✅ Found existing config.yaml\")\n",
    "    \n",
    "    # Read and display current profile\n",
    "    with open(config_file, 'r') as f:\n",
    "        content = f.read()\n",
    "        \n",
    "    # Extract current profile\n",
    "    import yaml\n",
    "    config = yaml.safe_load(content)\n",
    "    current_profile = config.get('current', 'default')\n",
    "    \n",
    "    print(f\"📋 Current active profile: {current_profile}\")\n",
    "    print(f\"📋 Available profiles: {list(config.get('profiles', {}).keys())}\")\n",
    "else:\n",
    "    print(\"❌ No config.yaml found. Let's create one...\")\n",
    "    \n",
    "    # Initialize config\n",
    "    result = subprocess.run([\"poetry\", \"run\", \"paas-ai\", \"config\", \"init\"], \n",
    "                           capture_output=True, text=True)\n",
    "    \n",
    "    if result.returncode == 0:\n",
    "        print(\"✅ Config initialized successfully!\")\n",
    "    else:\n",
    "        print(f\"❌ Config initialization failed: {result.stderr}\")\n"
   ]
  },
  {
   "cell_type": "code",
   "execution_count": null,
   "metadata": {},
   "outputs": [],
   "source": [
    "# Create a new custom profile called \"notebook_demo\"\n",
    "profile_name = \"notebook_demo\"\n",
    "\n",
    "print(f\"🔧 Creating custom profile: {profile_name}\")\n",
    "\n",
    "# Create profile using CLI (correct command is \"add-profile\")\n",
    "result = subprocess.run([\n",
    "    \"poetry\", \"run\", \"paas-ai\", \"config\", \"add-profile\", profile_name,\n",
    "    \"--embedding-type\", \"sentence_transformers\",\n",
    "    \"--embedding-model\", \"all-MiniLM-L6-v2\",\n",
    "    \"--vectorstore-type\", \"chroma\",\n",
    "    \"--activate\"\n",
    "], capture_output=True, text=True)\n",
    "\n",
    "if result.returncode == 0:\n",
    "    print(f\"✅ Profile '{profile_name}' created successfully!\")\n",
    "    print(result.stdout)\n",
    "else:\n",
    "    print(f\"❌ Profile creation failed: {result.stderr}\")\n",
    "    print(\"You can create it manually or use an existing profile.\")\n"
   ]
  },
  {
   "cell_type": "code",
   "execution_count": null,
   "metadata": {},
   "outputs": [],
   "source": [
    "# Activate the custom profile (if not already activated by --activate flag)\n",
    "print(f\"🔄 Setting profile as current: {profile_name}\")\n",
    "\n",
    "result = subprocess.run([\n",
    "    \"poetry\", \"run\", \"paas-ai\", \"config\", \"set-current\", profile_name\n",
    "], capture_output=True, text=True)\n",
    "\n",
    "if result.returncode == 0:\n",
    "    print(f\"✅ Profile '{profile_name}' set as current successfully!\")\n",
    "    print(result.stdout)\n",
    "else:\n",
    "    print(f\"❌ Profile activation failed: {result.stderr}\")\n",
    "    print(\"The profile may already be active from the --activate flag above\")\n"
   ]
  },
  {
   "cell_type": "markdown",
   "metadata": {},
   "source": [
    "## Step 4: Run Example PaaS Documentation\n",
    "\n",
    "Now let's start the documentation server. This provides example PaaS configurations and documentation that the AI can reference.\n"
   ]
  },
  {
   "cell_type": "code",
   "execution_count": null,
   "metadata": {},
   "outputs": [],
   "source": [
    "# Navigate to the docs directory and install dependencies\n",
    "docs_dir = Path(\"examples/paas/docs\")\n",
    "print(\"📦 Setting up documentation server...\")\n"
   ]
  },
  {
   "cell_type": "code",
   "execution_count": null,
   "metadata": {},
   "outputs": [],
   "source": [
    "# Install npm dependencies and start server\n",
    "original_dir = os.getcwd()\n",
    "os.chdir(docs_dir)\n",
    "\n",
    "# Install dependencies\n",
    "subprocess.run([\"npm\", \"install\"], capture_output=True, text=True)\n",
    "print(\"✅ Dependencies installed\")\n",
    "\n",
    "# Return to project root\n",
    "os.chdir(original_dir)\n"
   ]
  },
  {
   "cell_type": "code",
   "execution_count": null,
   "metadata": {},
   "outputs": [],
   "source": [
    "# Start the documentation server in background\n",
    "import threading\n",
    "import time\n",
    "\n",
    "def start_docs_server():\n",
    "    os.chdir(docs_dir)\n",
    "    subprocess.run([\"npm\", \"start\"], capture_output=False)\n",
    "\n",
    "server_thread = threading.Thread(target=start_docs_server, daemon=True)\n",
    "server_thread.start()\n",
    "time.sleep(3)\n",
    "\n",
    "print(\"🚀 Documentation server started at http://localhost:3000\")\n",
    "os.chdir(original_dir)\n"
   ]
  },
  {
   "cell_type": "markdown",
   "metadata": {},
   "source": [
    "## Step 4.5: Clean Up Previous Data (Optional)\n",
    "\n",
    "Before loading new knowledge, you can optionally clean up any existing RAG data or conversation history from previous runs. This ensures a fresh start and prevents conflicts.\n"
   ]
  },
  {
   "cell_type": "code",
   "execution_count": null,
   "metadata": {},
   "outputs": [],
   "source": [
    "# Optional: Clean up existing data for a fresh start\n",
    "import shutil\n",
    "\n",
    "# Define paths we'll need\n",
    "profile_rag_dir = Path(f\"rag_data/{profile_name}\")\n",
    "\n",
    "cleanup_choice = input(\"Would you like to clean up existing RAG data and conversation history? (y/N): \")\n",
    "\n",
    "if cleanup_choice.lower() in ['y', 'yes']:\n",
    "    print(\"🧹 Cleaning up existing data...\")\n",
    "    \n",
    "    # Clean up RAG data directory\n",
    "    rag_data_dir = Path(\"rag_data\")\n",
    "    if rag_data_dir.exists():\n",
    "        try:\n",
    "            shutil.rmtree(rag_data_dir)\n",
    "            print(\"✅ Removed existing RAG data directory\")\n",
    "        except Exception as e:\n",
    "            print(f\"⚠️  Could not remove RAG data directory: {e}\")\n",
    "    else:\n",
    "        print(\"📝 No existing RAG data directory found\")\n",
    "    \n",
    "    # Clean up conversation history (only the conversations.db file, NOT the config!)\n",
    "    conversations_db = Path.home() / \".paas-ai\" / \"conversations.db\"\n",
    "    if conversations_db.exists():\n",
    "        try:\n",
    "            conversations_db.unlink()\n",
    "            print(\"✅ Removed existing conversation history\")\n",
    "        except Exception as e:\n",
    "            print(f\"⚠️  Could not remove conversation history: {e}\")\n",
    "    else:\n",
    "        print(\"📝 No existing conversation history found\")\n",
    "    \n",
    "    print(\"✅ Cleanup completed! Starting with fresh data.\")\n",
    "    \n",
    "else:\n",
    "    print(\"⏭️  Skipping cleanup - keeping existing data\")\n",
    "    print(\"💡 If you encounter issues, you can run cleanup manually later\")\n"
   ]
  },
  {
   "cell_type": "markdown",
   "metadata": {},
   "source": [
    "## Step 5: Load Knowledge Base (Optional)\n",
    "\n",
    "Before starting the chat, let's optionally load some knowledge into the RAG system. This step is optional but recommended for better AI responses.\n"
   ]
  },
  {
   "cell_type": "code",
   "execution_count": null,
   "metadata": {},
   "outputs": [],
   "source": [
    "# Check if we have any existing knowledge base (profile-specific path)\n",
    "profile_rag_dir = Path(f\"rag_data/{profile_name}\")\n",
    "\n",
    "if profile_rag_dir.exists():\n",
    "    print(f\"✅ Found profile-specific RAG data: {profile_rag_dir}\")\n",
    "    \n",
    "    # Check for ChromaDB files\n",
    "    chroma_db = profile_rag_dir / \"chroma.sqlite3\"\n",
    "    if chroma_db.exists():\n",
    "        print(\"✅ Knowledge base is set up!\")\n",
    "    else:\n",
    "        print(\"📝 RAG directory exists but no data found\")\n",
    "else:\n",
    "    print(\"📝 No knowledge base found for this profile\")\n",
    "    print(\"💡 We'll load the data in the next step\")\n"
   ]
  },
  {
   "cell_type": "code",
   "execution_count": null,
   "metadata": {},
   "outputs": [],
   "source": [
    "# Load PaaS documentation using the CSV file\n",
    "load_knowledge = input(\"Would you like to load the PaaS documentation into the knowledge base? (y/N): \")\n",
    "\n",
    "if load_knowledge.lower() in ['y', 'yes']:\n",
    "    print(\"📚 Loading PaaS documentation from CSV...\")\n",
    "    print(\"⏳ This may take a few minutes...\")\n",
    "    \n",
    "    # Load documentation using the CSV file (with real-time output)\n",
    "    print(\"🔄 Running command with live output:\")\n",
    "    print(\"poetry run paas-ai rag resources add-batch --csv-file examples/paas/paas_docs_urls.csv\")\n",
    "    print(\"-\" * 80)\n",
    "    \n",
    "    result = subprocess.run([\n",
    "        \"poetry\", \"run\", \"paas-ai\", \"rag\", \"resources\", \"add-batch\",\n",
    "        \"--csv-file\", \"examples/paas/paas_docs_urls.csv\"\n",
    "    ], text=True)  # Remove capture_output to see live output\n",
    "    \n",
    "    print(\"-\" * 80)\n",
    "    \n",
    "    if result.returncode == 0:\n",
    "        print(\"✅ Documentation loaded successfully!\")\n",
    "        # Check if data was actually loaded\n",
    "        if profile_rag_dir.exists() and (profile_rag_dir / \"chroma.sqlite3\").exists():\n",
    "            print(f\"✅ Verified: Knowledge base created at {profile_rag_dir}\")\n",
    "        else:\n",
    "            print(\"⚠️  Warning: Command succeeded but no data files found\")\n",
    "    else:\n",
    "        print(f\"❌ Documentation loading failed with return code: {result.returncode}\")\n",
    "        print(\"💡 You can try loading it manually later\")\n",
    "else:\n",
    "    print(\"⏭️  Skipping knowledge base loading\")\n",
    "    print(\"💡 You can load it later using: poetry run paas-ai rag resources add-batch --csv-file examples/paas/paas_docs_urls.csv\")\n"
   ]
  },
  {
   "cell_type": "markdown",
   "metadata": {},
   "source": [
    "## Step 6: Start Interactive Chat\n",
    "\n",
    "Now for the exciting part - let's start the interactive chat with the AI! This will launch the PaaS AI chat interface where you can ask questions about PaaS configurations, get help with deployments, and more.\n"
   ]
  },
  {
   "cell_type": "code",
   "execution_count": null,
   "metadata": {},
   "outputs": [],
   "source": [
    "# Ready to start chat!\n",
    "print(\"🤖 Everything is set up and ready to go!\")\n"
   ]
  },
  {
   "cell_type": "code",
   "execution_count": null,
   "metadata": {},
   "outputs": [],
   "source": [
    "# Display chat startup information\n",
    "print(\"🤖 Ready to start PaaS AI Chat!\")\n",
    "print(\"\\n\" + \"=\"*60)\n",
    "print(\"🚀 PAAS AI INTERACTIVE CHAT\")\n",
    "print(\"=\"*60)\n",
    "print(\"\\n💡 What you can do:\")\n",
    "print(\"  • Ask questions about PaaS configurations\")\n",
    "print(\"  • Get help with Kubernetes, Docker, Terraform\")\n",
    "print(\"  • Request example configurations\")\n",
    "print(\"  • Get best practices and guidelines\")\n",
    "print(\"\\n🎮 Special commands:\")\n",
    "print(\"  • 'tools' - Show available agent tools\")\n",
    "print(\"  • 'config' - Show current configuration\")\n",
    "print(\"  • 'tokens' - Show token usage (if tracking enabled)\")\n",
    "print(\"  • 'exit' or 'quit' - End the session\")\n",
    "print(\"\\n📚 Resources available:\")\n",
    "print(\"  • Documentation server: http://localhost:3000\")\n",
    "print(\"  • Local knowledge base (if loaded)\")\n",
    "print(\"  • Built-in PaaS expertise\")\n",
    "print(\"=\"*60)\n",
    "\n",
    "print(\"\\n🎯 Example questions to try:\")\n",
    "print(\"  • 'Create a simple web application deployment'\")\n",
    "print(\"  • 'What are the best practices for microservices?'\")\n",
    "print(\"  • 'Show me a Kubernetes deployment example'\")\n",
    "print(\"  • 'How do I set up load balancing?'\")\n",
    "\n",
    "print(\"\\n⚡ Starting chat in 3 seconds...\")\n",
    "time.sleep(3)\n"
   ]
  },
  {
   "cell_type": "code",
   "execution_count": null,
   "metadata": {},
   "outputs": [],
   "source": [
    "# Instructions to start the chat\n",
    "print(\"🎯 TO START CHAT, RUN THIS COMMAND IN YOUR TERMINAL:\")\n",
    "print(\"=\"*60)\n",
    "print(\"\\npoetry run paas-ai agent chat --show-config\")\n",
    "print(\"\\n💡 Or with your custom profile:\")\n",
    "print(f\"poetry run paas-ai agent chat --config-profile {profile_name} --show-config\")\n",
    "print(\"\\n\" + \"=\"*60)\n"
   ]
  },
  {
   "cell_type": "markdown",
   "metadata": {},
   "source": [
    "## 🎉 Setup Complete!\n",
    "\n",
    "Congratulations! You've successfully set up PaaS AI. Here's what we accomplished:\n",
    "\n",
    "### ✅ What's Running:\n",
    "1. **Dependencies Installed** - All Python packages via Poetry\n",
    "2. **Custom Profile Created** - `notebook_demo` profile configured\n",
    "3. **Documentation Server** - Running on http://localhost:3000\n",
    "4. **Knowledge Base** - Ready for queries (loaded if you chose to)\n",
    "5. **Chat Interface** - Ready to start\n",
    "\n",
    "### 🚀 Next Steps:\n",
    "\n",
    "1. **Open a terminal** and navigate to this project directory\n",
    "2. **Run the chat command**:\n",
    "   ```bash\n",
    "   poetry run paas-ai agent chat --show-config\n",
    "   ```\n",
    "3. **Start asking questions** about PaaS configurations!\n",
    "\n",
    "### 💡 Tips:\n",
    "- Visit http://localhost:3000 to browse the documentation\n",
    "- Use `poetry run paas-ai --help` to see all available commands\n",
    "- Check `poetry run paas-ai config show` to see your current configuration\n",
    "- Load more knowledge with `poetry run paas-ai rag index --help`\n",
    "\n",
    "### 🛠️ Troubleshooting:\n",
    "- If chat doesn't start, check your OpenAI API key in `.env`\n",
    "- If documentation server isn't running, restart with `npm start` in `examples/paas/docs/`\n",
    "- For configuration issues, try `poetry run paas-ai config init`\n",
    "\n",
    "Happy coding with PaaS AI! 🤖✨\n"
   ]
  },
  {
   "cell_type": "markdown",
   "metadata": {},
   "source": [
    "## 🧹 Cleanup (Optional)\n",
    "\n",
    "When you're done experimenting, you can clean up resources:\n"
   ]
  },
  {
   "cell_type": "code",
   "execution_count": null,
   "metadata": {},
   "outputs": [],
   "source": [
    "# Optional cleanup commands\n",
    "print(\"🧹 Cleanup options:\")\n",
    "print(\"\\n1. Stop documentation server:\")\n",
    "print(\"   - Press Ctrl+C in the terminal where npm start is running\")\n",
    "print(\"   - Or find and kill the process: pkill -f 'docusaurus start'\")\n",
    "\n",
    "print(\"\\n2. Remove generated data (if you want to start fresh):\")\n",
    "print(\"   - rm -rf rag_data/  # Removes knowledge base\")\n",
    "print(\"   - rm -rf ~/.paas-ai/  # Removes conversation history\")\n",
    "\n",
    "print(\"\\n3. Reset configuration:\")\n",
    "print(\"   - poetry run paas-ai config init  # Reinitialize config\")\n",
    "\n",
    "print(\"\\n💡 You don't need to run cleanup unless you want to start over!\")\n"
   ]
  }
 ],
 "metadata": {
  "kernelspec": {
   "display_name": "Python 3 (ipykernel)",
   "language": "python",
   "name": "python3"
  },
  "language_info": {
   "codemirror_mode": {
    "name": "ipython",
    "version": 3
   },
   "file_extension": ".py",
   "mimetype": "text/x-python",
   "name": "python",
   "nbconvert_exporter": "python",
   "pygments_lexer": "ipython3",
   "version": "3.12.7"
  }
 },
 "nbformat": 4,
 "nbformat_minor": 4
}
